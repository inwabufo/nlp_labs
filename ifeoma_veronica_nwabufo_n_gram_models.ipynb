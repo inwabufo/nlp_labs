{
  "cells": [
    {
      "cell_type": "markdown",
      "metadata": {
        "id": "GlVC7dkP5j-Y"
      },
      "source": [
        "\n",
        "<h1 style=\"font-family:verdana;font-size:300%;text-align:center;background-color:#f2f2f2;color:#0d0d0d\">AMMI NLP - Review sessions</h1>\n",
        "\n",
        "<h1 style=\"font-family:verdana;font-size:180%;text-align:Center;color:#993333\"> Lab 3: n-gram models </h1>"
      ]
    },
    {
      "cell_type": "markdown",
      "metadata": {
        "id": "NXLok5Na5j-a"
      },
      "source": [
        "**Big thanks to Amr Khalifa who improved this lab and made it to a Jupyter Notebook!**"
      ]
    },
    {
      "cell_type": "code",
      "source": [
        "from google.colab import drive\n",
        "drive.mount('/content/drive')"
      ],
      "metadata": {
        "colab": {
          "base_uri": "https://localhost:8080/"
        },
        "id": "xPZAAS3v5w6-",
        "outputId": "8f922a4b-0b5f-4017-feb3-5cee2be0fda3"
      },
      "execution_count": 8,
      "outputs": [
        {
          "output_type": "stream",
          "name": "stdout",
          "text": [
            "Mounted at /content/drive\n"
          ]
        }
      ]
    },
    {
      "cell_type": "code",
      "execution_count": 1,
      "metadata": {
        "id": "gN_TZXGI5j-a"
      },
      "outputs": [],
      "source": [
        "import io, sys, math, re\n",
        "from collections import defaultdict\n",
        "import numpy as np"
      ]
    },
    {
      "cell_type": "code",
      "execution_count": 2,
      "metadata": {
        "id": "F_zlngzq5j-a"
      },
      "outputs": [],
      "source": [
        "# data_loader\n",
        "def load_data(filename):\n",
        "    '''\n",
        "    parameters:\n",
        "    filename (string): datafile\n",
        "    \n",
        "    Returns:\n",
        "    data (list of lists): each list is a sentence of the text \n",
        "    vocab (dictionary): {word: no of times it appears in the text}\n",
        "    '''\n",
        "    fin = io.open(filename, 'r', encoding='utf-8')\n",
        "    data = []\n",
        "    vocab = defaultdict(lambda:0)\n",
        "    for line in fin:\n",
        "        sentence = line.split()\n",
        "        data.append(sentence)\n",
        "        for word in sentence:\n",
        "            vocab[word] += 1\n",
        "    return data, vocab"
      ]
    },
    {
      "cell_type": "code",
      "execution_count": 3,
      "metadata": {
        "id": "6mCsd2aZ5j-b",
        "colab": {
          "base_uri": "https://localhost:8080/"
        },
        "outputId": "1cc9a355-fd6a-47f2-9812-97c3b1ea5a54"
      },
      "outputs": [
        {
          "output_type": "stream",
          "name": "stdout",
          "text": [
            "load training set..\n",
            "\n",
            "\n",
            "['<s>', 'my', 'fathers', \"don't\", 'speak', 'dutch.', '</s>']\n",
            "\n",
            "\n",
            "how : 107\n",
            "load validation set\n"
          ]
        }
      ],
      "source": [
        "\n",
        "print(\"load training set..\")\n",
        "print(\"\\n\")\n",
        "train_data, vocab = load_data(\"/content/drive/MyDrive/AMMI SLIDES/NLP_Week_1_Labs_2022/session3/train1.txt\")\n",
        "print(train_data[0])\n",
        "print(\"\\n\")\n",
        "print(\"how :\",vocab['how'])\n",
        "print(\"load validation set\")\n",
        "valid_data, vocab_dict= load_data(\"/content/drive/MyDrive/AMMI SLIDES/NLP_Week_1_Labs_2022/session3/valid1.txt\")\n"
      ]
    },
    {
      "cell_type": "code",
      "source": [
        "def remove_rare_words(data, vocab, mincount = 1):\n",
        "    '''\n",
        "    Parameters:\n",
        "    data (list of lists): each list is a sentence of the text \n",
        "    vocab (dictionary): {word: no of times it appears in the text}\n",
        "    mincount(int): the minimum count \n",
        "    \n",
        "    Returns: \n",
        "    data_with_unk(list of lists): data after replacing rare words with <unk> token\n",
        "    '''\n",
        "    # replace words in data that are not in the vocab \n",
        "    # or have a count that is below mincount\n",
        "    data_with_unk = []\n",
        "\n",
        "    for sentence in data:\n",
        "      words = []\n",
        "      for word in sentence:\n",
        "        if (vocab[word]<=mincount) or (word not in vocab.keys()):\n",
        "          words.append('<unk>')\n",
        "        else:\n",
        "          words.append(word)\n",
        "      data_with_unk.append(words)\n",
        "\n",
        "    ## FILL CODE\n",
        "    \n",
        "    return data_with_unk"
      ],
      "metadata": {
        "id": "hK3MFrVb5kHW"
      },
      "execution_count": 4,
      "outputs": []
    },
    {
      "cell_type": "code",
      "execution_count": 5,
      "metadata": {
        "id": "9DX-5O9g5j-b",
        "colab": {
          "base_uri": "https://localhost:8080/"
        },
        "outputId": "7f15265d-5249-4255-8413-744b42ff5ba8"
      },
      "outputs": [
        {
          "output_type": "stream",
          "name": "stdout",
          "text": [
            "remove rare words\n"
          ]
        }
      ],
      "source": [
        "print(\"remove rare words\")\n",
        "\n",
        "train_data= remove_rare_words(train_data, vocab, mincount = 1)\n",
        "valid_data= remove_rare_words(valid_data, vocab, mincount = 1)\n",
        "# train_data"
      ]
    },
    {
      "cell_type": "code",
      "source": [
        "train_data[0]"
      ],
      "metadata": {
        "colab": {
          "base_uri": "https://localhost:8080/"
        },
        "id": "q4cnOOUQl6n3",
        "outputId": "2d03d169-d436-47ee-eec8-03928efe58b6"
      },
      "execution_count": 6,
      "outputs": [
        {
          "output_type": "execute_result",
          "data": {
            "text/plain": [
              "['<s>', 'my', '<unk>', \"don't\", 'speak', '<unk>', '</s>']"
            ]
          },
          "metadata": {},
          "execution_count": 6
        }
      ]
    },
    {
      "cell_type": "code",
      "execution_count": 7,
      "metadata": {
        "id": "bM6NFmTB5j-c"
      },
      "outputs": [],
      "source": [
        "def build_ngram(data, n):\n",
        "    '''\n",
        "    Parameters:\n",
        "    data (list of lists): each list is a sentence of the text \n",
        "    n (int): size of the n-gram\n",
        "    \n",
        "    Returns:\n",
        "    prob (dictionary of dictionary)\n",
        "    {\n",
        "        context: {word:probability of this word given context}\n",
        "    }\n",
        "    '''\n",
        "    total_number_words = 0\n",
        "    counts = defaultdict(lambda: defaultdict(lambda: 0.0))\n",
        "    word_counts= defaultdict(lambda: 0.0)\n",
        "    word_in_context=defaultdict(lambda: 0.0)\n",
        "\n",
        "\n",
        "    for sentence in data:       \n",
        "      sentence = tuple(sentence)  \n",
        "      ## FILL CODE\n",
        "        # dict can be indexed by tuples\n",
        "        # store in the same dict all the ngrams\n",
        "        # by using the context as a key and the word as a value\n",
        "      \n",
        "      for i in range(len(sentence)):\n",
        "        for j in range(n):\n",
        "          if i-j>=0:\n",
        "            context=sentence[i-j:i]\n",
        "            counts[context][sentence[i]]+=1\n",
        "            word_counts[sentence[i]]+=1\n",
        "            word_in_context[context]+=1\n",
        "\n",
        "      \n",
        "    proba  = defaultdict(lambda: defaultdict(lambda: 0.0))\n",
        "    for context in counts.keys():\n",
        "        for word in counts[context].keys():\n",
        "          proba[context][word]=(counts[context][word])/(word_in_context[context])\n",
        "    # ## FILL CODE\n",
        "      \n",
        "  \n",
        "    return proba\n"
      ]
    },
    {
      "cell_type": "code",
      "execution_count": 8,
      "metadata": {
        "id": "PV9x5_0C5j-c",
        "colab": {
          "base_uri": "https://localhost:8080/"
        },
        "outputId": "7da8d687-047b-44cc-d060-5cd76dacd817"
      },
      "outputs": [
        {
          "output_type": "stream",
          "name": "stdout",
          "text": [
            "build ngram model with n =  3\n"
          ]
        }
      ],
      "source": [
        "# RUN TO BUILD NGRAM MODEL\n",
        "\n",
        "n = 3\n",
        "print(\"build ngram model with n = \", n)\n",
        "model= build_ngram(train_data, n)\n"
      ]
    },
    {
      "cell_type": "markdown",
      "metadata": {
        "id": "HzwmbyB75j-c"
      },
      "source": [
        "Here, implement a recursive function over shorter and shorter context to compute a \"stupid backoff model\". An interpolation model can also be implemented this way."
      ]
    },
    {
      "cell_type": "code",
      "execution_count": 9,
      "metadata": {
        "id": "iIKdnOyb5j-d"
      },
      "outputs": [],
      "source": [
        "def get_prob(model, context, w):\n",
        "    '''\n",
        "    Parameters: \n",
        "    model (dictionary of dictionary)\n",
        "    {\n",
        "        context: {word:probability of this word given context}\n",
        "    } \n",
        "    context (list of strings): a sentence\n",
        "    w(string): the word we need to find it's probability given the context\n",
        "    \n",
        "    Returns:\n",
        "    prob(float): probability of this word given the context \n",
        "    '''\n",
        "    # code a recursive function over \n",
        "    # smaller and smaller context\n",
        "    # to compute the backoff model\n",
        "    \n",
        "    ## FILL CODE\n",
        "    if context in model and w in model[context]:\n",
        "      return model[context][w]\n",
        "    else:\n",
        "      return 0.4*get_prob(model, context[1:], w)"
      ]
    },
    {
      "cell_type": "code",
      "execution_count": 10,
      "metadata": {
        "id": "eZSq1oI35j-d"
      },
      "outputs": [],
      "source": [
        "import numpy as np\n",
        "def perplexity(model, data, n):\n",
        "    '''\n",
        "    Parameters: \n",
        "    model (dictionary of dictionary)\n",
        "    {\n",
        "        context: {word:probability of this word given context}\n",
        "    } \n",
        "    data (list of lists): each list is a sentence of the text\n",
        "    n(int): size of the n-gram\n",
        "    \n",
        "    Retunrs:\n",
        "    perp(float): the perplexity of the model \n",
        "    '''\n",
        "    ## FILL CODE\n",
        "    pp=0.0\n",
        "    T=0\n",
        "    for sentence in data:\n",
        "      sentence=tuple(sentence)\n",
        "      T+=len(sentence)-1\n",
        "      for i in range(1,len(sentence)):\n",
        "        if n<i+1:\n",
        "          context=sentence[i+1-n:i]\n",
        "        else:\n",
        "          context=sentence[0:i]\n",
        "        pp-=np.log(get_prob(model,context,sentence[i]))\n",
        "    perplexity=np.exp(pp/T)\n",
        "    return perplexity"
      ]
    },
    {
      "cell_type": "code",
      "execution_count": 11,
      "metadata": {
        "id": "jMjC0PzR5j-d",
        "colab": {
          "base_uri": "https://localhost:8080/"
        },
        "outputId": "8a67da47-f04d-4dea-d32b-1cab8ea139a5"
      },
      "outputs": [
        {
          "output_type": "stream",
          "name": "stdout",
          "text": [
            "The perplexity is 62.065880784180806\n"
          ]
        }
      ],
      "source": [
        "# COMPUTE PERPLEXITY ON VALIDATION SET\n",
        "\n",
        "print(\"The perplexity is\", perplexity(model, valid_data, n=n))"
      ]
    },
    {
      "cell_type": "code",
      "execution_count": 12,
      "metadata": {
        "id": "tdd9kKhL5j-d"
      },
      "outputs": [],
      "source": [
        "def get_proba_distrib(model, context):\n",
        "    ## need to get the the words after the context and their probability of appearance\n",
        "    ## after this context \n",
        "    '''\n",
        "    Parameters: \n",
        "    model (dictionary of dictionary)\n",
        "    {\n",
        "        context: {word:probability of this word given context}\n",
        "    }\n",
        "    context (list of strings): the sentence we need to find the words after it and \n",
        "    thier probabilites\n",
        "    \n",
        "    Retunrs:\n",
        "    words_and_probs(dic): {word: probability of word given context}\n",
        "    \n",
        "    '''\n",
        "    # code a recursive function over context\n",
        "    # to find the longest available ngram\n",
        "    if context in model.keys():\n",
        "      return model[context]\n",
        "    else:\n",
        "      return get_proba_distrib(model,context[1:])\n",
        "    \n",
        "    ## FILL CODE\n",
        "    \n",
        "    # return None"
      ]
    },
    {
      "cell_type": "code",
      "execution_count": 13,
      "metadata": {
        "id": "Q67OL1-m5j-d"
      },
      "outputs": [],
      "source": [
        "def generate(model):\n",
        "    '''\n",
        "    Parameters: \n",
        "    model (dictionary of dictionary)\n",
        "    {\n",
        "        context: {word:probability of this word given context}\n",
        "    }\n",
        "    \n",
        "    Retunrs:\n",
        "    sentence (list of strings): a sentence sampled according to the language model. \n",
        "    \n",
        "\n",
        "    '''\n",
        "    # generate a sentence. A sentence starts with a <s> and ends with a </s>\n",
        "    # Possiblly a use function is:\n",
        "    # np.random.choice(x, 1, p = y)\n",
        "\n",
        "    # where x is a list of things to sample from\n",
        "    # and y is a list of probability (of the same length as x)\n",
        "    n=2\n",
        "    sentence = [\"<s>\"]\n",
        "    while sentence[-1] != \"</s>\" and len(sentence)<100:\n",
        "      sentence_=tuple(sentence)\n",
        "      if n-len(sentence_)<=0:\n",
        "        context=sentence_\n",
        "      else:\n",
        "        context=sentence_[-n:]\n",
        "      prob=get_proba_distrib(model,context)\n",
        "      higehest_prob=max(prob.values())\n",
        "      list_val=list(prob.values()).index(higehest_prob)\n",
        "      list_key=list(prob.keys())[list_val]\n",
        "      sentence.append(list_key)\n",
        "        ## FILL CODE\n",
        "        \n",
        "    return sentence"
      ]
    },
    {
      "cell_type": "code",
      "execution_count": 14,
      "metadata": {
        "id": "2yBrWbR25j-e",
        "colab": {
          "base_uri": "https://localhost:8080/"
        },
        "outputId": "e876bb26-bc5c-4431-bbda-e8be9c37dda7"
      },
      "outputs": [
        {
          "output_type": "stream",
          "name": "stdout",
          "text": [
            "Generated sentence:  ['<s>', 'tom', 'and', 'mary', 'said', 'they', 'were', '<unk>', '</s>']\n"
          ]
        }
      ],
      "source": [
        "# GENERATE A SENTENCE FROM THE MODEL\n",
        "\n",
        "print(\"Generated sentence: \",generate(model))"
      ]
    },
    {
      "cell_type": "markdown",
      "metadata": {
        "id": "dmQTmVvI5j-e"
      },
      "source": [
        "Once you are done implementing the model, evaluation and generation code, you can try changing the value of `n`, and play with a larger training set (`train2.txt` and `valid2.txt`). You can also try to implement an interpolation model."
      ]
    },
    {
      "cell_type": "code",
      "execution_count": null,
      "metadata": {
        "id": "c1lLg4R55j-e"
      },
      "outputs": [],
      "source": [
        ""
      ]
    }
  ],
  "metadata": {
    "kernelspec": {
      "display_name": "Python 3",
      "language": "python",
      "name": "python3"
    },
    "language_info": {
      "codemirror_mode": {
        "name": "ipython",
        "version": 3
      },
      "file_extension": ".py",
      "mimetype": "text/x-python",
      "name": "python",
      "nbconvert_exporter": "python",
      "pygments_lexer": "ipython3",
      "version": "3.6.2+"
    },
    "colab": {
      "name": "ifeoma_veronica_nwabufo_n_gram_models.ipynb",
      "provenance": [],
      "collapsed_sections": []
    }
  },
  "nbformat": 4,
  "nbformat_minor": 0
}