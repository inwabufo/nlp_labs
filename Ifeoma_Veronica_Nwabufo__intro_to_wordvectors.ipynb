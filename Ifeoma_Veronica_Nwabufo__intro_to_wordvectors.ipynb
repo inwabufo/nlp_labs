{
  "cells": [
    {
      "cell_type": "markdown",
      "metadata": {
        "id": "pkWhDQNxrBCS"
      },
      "source": [
        "\n",
        "<h1 style=\"font-family:verdana;font-size:300%;text-align:center;background-color:#f2f2f2;color:#0d0d0d\">AMMI NLP - Review sessions</h1>\n",
        "\n",
        "<h1 style=\"font-family:verdana;font-size:180%;text-align:Center;color:#993333\"> Lab 2: Introduction to wordvectors </h1>"
      ]
    },
    {
      "cell_type": "markdown",
      "metadata": {
        "id": "-UCzsxvdrBCT"
      },
      "source": [
        "**Big thanks to Amr Khalifa who improved this lab and made it to a Jupyter Notebook!**"
      ]
    },
    {
      "cell_type": "code",
      "execution_count": 1,
      "metadata": {
        "id": "VDQZhxBcrBCT"
      },
      "outputs": [],
      "source": [
        "import io, sys\n",
        "import numpy as np"
      ]
    },
    {
      "cell_type": "code",
      "execution_count": 2,
      "metadata": {
        "id": "7FXz5k1QrBCU"
      },
      "outputs": [],
      "source": [
        "def load_vectors(filename):\n",
        "    fin = io.open(filename, 'r', encoding='utf-8', newline='\\n')\n",
        "    n, d = map(int, fin.readline().split())\n",
        "    data = {}\n",
        "    for line in fin:\n",
        "        tokens = line.rstrip().split(' ')\n",
        "        data[tokens[0]] = np.asarray([float(x) for x in tokens[1:]])\n",
        "    return data"
      ]
    },
    {
      "cell_type": "code",
      "source": [
        "# from google.colab import drive\n",
        "# drive.mount('/content/drive')"
      ],
      "metadata": {
        "id": "nkIa7q1vrR0a"
      },
      "execution_count": 5,
      "outputs": []
    },
    {
      "cell_type": "code",
      "execution_count": 9,
      "metadata": {
        "id": "UM7GQ9ISrBCU",
        "colab": {
          "base_uri": "https://localhost:8080/"
        },
        "outputId": "34e41231-a8fb-42cf-9bb2-97b93644ecde"
      },
      "outputs": [
        {
          "output_type": "stream",
          "name": "stdout",
          "text": [
            "\n",
            " ** Word vectors ** \n",
            "\n"
          ]
        },
        {
          "output_type": "execute_result",
          "data": {
            "text/plain": [
              "array([-0.39784  ,  0.054416 ,  0.21823  ,  0.39507  ,  0.092681 ,\n",
              "       -0.023061 ,  0.37008  , -0.64496  ,  0.3227   , -0.032656 ,\n",
              "        0.36157  , -0.09288  ,  0.061203 ,  0.22114  ,  0.051044 ,\n",
              "       -0.17904  ,  0.24627  ,  0.27385  ,  0.22722  ,  0.406    ,\n",
              "       -0.014682 ,  0.10351  , -0.51104  ,  0.019572 , -0.057841 ,\n",
              "       -0.16893  ,  0.096886 , -0.18702  , -0.12943  , -0.6119   ,\n",
              "       -0.27579  ,  0.36402  ,  0.20499  ,  0.099865 ,  0.080926 ,\n",
              "       -0.013058 ,  0.24712  ,  0.27284  , -0.022597 ,  0.16511  ,\n",
              "        0.12329  ,  0.0063245, -0.30938  , -0.2052   ,  0.075066 ,\n",
              "        0.55976  , -0.046072 , -0.24232  ,  0.076304 , -0.19305  ,\n",
              "       -0.046893 ,  0.17447  , -0.29613  , -0.0091035,  0.45577  ,\n",
              "        0.62522  , -0.21809  , -0.079472 ,  0.35758  ,  0.52445  ,\n",
              "       -0.063457 , -0.45847  ,  0.1742   , -0.11709  ,  0.029591 ,\n",
              "       -0.16949  ,  0.27293  , -0.056522 ,  0.012239 ,  0.473    ,\n",
              "       -0.088194 , -0.047084 ,  0.30997  , -0.46366  ,  0.044899 ,\n",
              "        0.017134 ,  0.43833  ,  0.1972   , -0.15461  , -0.086679 ,\n",
              "       -0.1268   , -0.047868 , -0.086764 , -0.13257  , -0.10754  ,\n",
              "        0.041026 ,  0.14707  ,  0.2428   ,  0.017882 ,  0.31355  ,\n",
              "        0.26011  , -0.14163  , -0.20247  , -0.44918  ,  0.038273 ,\n",
              "       -0.11636  , -0.16899  , -0.057229 ,  0.01725  , -0.28792  ,\n",
              "        0.22602  , -0.11952  , -0.033126 , -0.27466  ,  0.022356 ,\n",
              "        0.10287  , -0.47418  ,  0.47209  , -0.10983  ,  0.020418 ,\n",
              "        0.20297  , -0.22999  , -0.15278  ,  0.050411 ,  0.22013  ,\n",
              "       -0.41752  ,  0.13351  ,  0.058916 , -0.069125 ,  0.27321  ,\n",
              "        0.23556  ,  0.44628  ,  0.10644  ,  0.45155  ,  0.082728 ,\n",
              "        0.1467   , -0.087843 ,  0.29509  , -0.021581 ,  0.059069 ,\n",
              "       -0.27587  ,  0.35095  , -0.23893  ,  0.066035 ,  0.06379  ,\n",
              "        0.22035  , -0.33606  , -0.20283  , -0.30568  , -0.20014  ,\n",
              "        0.4622   ,  0.15255  ,  0.36056  , -0.13891  ,  0.092259 ,\n",
              "        0.17772  , -0.1358   , -0.012314 , -0.32808  ,  0.065039 ,\n",
              "        0.098637 , -0.37838  , -0.041142 ,  0.16198  , -0.13477  ,\n",
              "       -0.12069  ,  0.0047291, -0.13529  ,  0.2508   ,  0.23812  ,\n",
              "        0.36012  , -0.10374  , -0.20955  , -0.25071  ,  0.043354 ,\n",
              "       -0.28728  , -0.022019 ,  0.0052659,  0.17327  , -0.031052 ,\n",
              "       -0.43724  , -0.28445  , -0.36696  , -0.17373  , -0.19299  ,\n",
              "        0.034878 , -0.20619  ,  0.054509 ,  0.11647  , -0.05072  ,\n",
              "        0.21144  ,  0.37915  ,  0.023458 , -0.28979  ,  0.14393  ,\n",
              "       -0.32599  , -0.30203  ,  0.28224  ,  0.29829  , -0.12661  ,\n",
              "        0.32949  , -0.11792  ,  0.31457  ,  0.62926  , -0.025632 ,\n",
              "       -0.176    , -0.1362   , -0.30017  , -0.48829  , -0.092524 ,\n",
              "        0.030552 ,  0.094078 ,  0.30893  ,  0.33937  , -0.1489   ,\n",
              "       -0.4968   , -0.40913  , -0.024378 ,  0.32504  , -0.16921  ,\n",
              "        0.14217  ,  0.18856  ,  0.061215 ,  0.0073872,  0.1163   ,\n",
              "       -0.34951  ,  0.027877 , -0.3165   , -0.28568  , -0.22626  ,\n",
              "       -0.27569  , -0.025951 , -0.48071  ,  0.22859  , -0.010644 ,\n",
              "        0.035062 ,  0.067583 ,  0.036422 ,  0.090386 , -0.29189  ,\n",
              "       -0.080885 ,  0.26875  , -0.033764 ,  0.091138 ,  0.15499  ,\n",
              "       -0.39699  , -0.38301  ,  0.10783  ,  0.047674 ,  0.33924  ,\n",
              "       -0.045956 ,  0.053329 ,  0.063712 , -0.31844  ,  0.30207  ,\n",
              "        0.032281 , -0.23562  , -0.52411  ,  0.14581  ,  0.13989  ,\n",
              "        0.086551 , -0.35384  ,  0.25498  , -0.1143   ,  0.24687  ,\n",
              "        0.12365  ,  0.093008 ,  0.12685  ,  0.1339   ,  0.16188  ,\n",
              "        0.054554 ,  0.25037  , -0.06566  , -0.12869  , -0.093031 ,\n",
              "       -0.13151  , -0.2464   , -0.15723  ,  0.23353  , -0.20434  ,\n",
              "       -0.29663  , -0.27974  ,  0.44967  , -0.12316  , -0.088075 ,\n",
              "       -0.70221  , -0.1246   , -0.37113  ,  0.17108  ,  0.57219  ,\n",
              "        0.38216  ,  0.27854  , -0.23272  , -0.34585  ,  0.2447   ,\n",
              "       -0.034946 , -0.15407  , -0.27374  ,  0.12633  , -0.38436  ,\n",
              "       -0.21041  , -0.10244  ,  0.19948  , -0.25719  , -0.21997  ,\n",
              "       -0.030813 , -0.41369  ,  0.35552  ,  0.31405  , -0.10829  ])"
            ]
          },
          "metadata": {},
          "execution_count": 9
        }
      ],
      "source": [
        "# Loading word vectors\n",
        "\n",
        "print('')\n",
        "print(' ** Word vectors ** ')\n",
        "print('')\n",
        "\n",
        "'''\n",
        "word_vectors is a dictionary that maps words to their numerical word vector\n",
        "[word (string)] = [np-array] \n",
        "'''\n",
        "word_vectors = load_vectors('/content/drive/MyDrive/AMMI SLIDES/NLP_Week_1_Labs_2022/session2/session2/wiki.en.vec')\n",
        "\n",
        "tree_vector = word_vectors['tree']\n",
        "tree_vector\n",
        "# print(type(tree_vector), len(tree_vector))"
      ]
    },
    {
      "cell_type": "code",
      "execution_count": 11,
      "metadata": {
        "id": "zISklu0erBCV"
      },
      "outputs": [],
      "source": [
        "## This function computes the cosine similarity between vectors u and v\n",
        "\n",
        "def cosine(u, v):\n",
        "    '''\n",
        "    Parameters:\n",
        "    u : 1-D numpy array\n",
        "    v : 1-D numpy array \n",
        "    \n",
        "    Returns:\n",
        "    cos (float) : value of the cosine similairy between vectors u, v \n",
        "    '''\n",
        "    cos=(np.dot(u.T,v))/np.dot(np.linalg.norm(u),np.linalg.norm(v))\n",
        "\n",
        "    ## FILL CODE\n",
        "    \n",
        "    return cos \n"
      ]
    },
    {
      "cell_type": "code",
      "execution_count": 12,
      "metadata": {
        "id": "v_2F01tkrBCV",
        "colab": {
          "base_uri": "https://localhost:8080/"
        },
        "outputId": "eb4a2fca-94ff-450f-9422-bcd2034f1bc6"
      },
      "outputs": [
        {
          "output_type": "stream",
          "name": "stdout",
          "text": [
            "similarity(apple, apples) = 0.637\n",
            "similarity(apple, banana) = 0.431\n",
            "similarity(apple, tiger) = 0.212\n"
          ]
        }
      ],
      "source": [
        "# compute similarity between words\n",
        "\n",
        "print('similarity(apple, apples) = %.3f' %\n",
        "      cosine(word_vectors['apple'], word_vectors['apples']))\n",
        "print('similarity(apple, banana) = %.3f' %\n",
        "      cosine(word_vectors['apple'], word_vectors['banana']))\n",
        "print('similarity(apple, tiger) = %.3f' %\n",
        "      cosine(word_vectors['apple'], word_vectors['tiger']))"
      ]
    },
    {
      "cell_type": "code",
      "execution_count": 25,
      "metadata": {
        "id": "Q6DIHmRZrBCV"
      },
      "outputs": [],
      "source": [
        "## Functions for nearest neighbor\n",
        "## This function returns the word corresponding to \n",
        "## nearest neighbor vector of x\n",
        "## The list exclude_words can be used to exclude some\n",
        "## words from the nearest neighbors search\n",
        "\n",
        "def nearest_neighbor(x, word_vectors, exclude_words=[]):\n",
        "    '''\n",
        "    Parameters:\n",
        "    x (string): word to find its nearest neighbour \n",
        "    word_vectors (Python dict): {word (string): np-array of word vector}\n",
        "    exclude_words (list of strings): words to be excluded from the search\n",
        "    \n",
        "    Returns:\n",
        "    best_word (string) : the word whose word vector is the nearest neighbour \n",
        "    to the word vector of x\n",
        "    '''\n",
        "    best_score = -1.0\n",
        "    best_word = None\n",
        "    for word in word_vectors:\n",
        "      if word not in exclude_words:\n",
        "        similarity_score=cosine(x,word_vectors[word])\n",
        "        if similarity_score>best_score:\n",
        "          best_score=similarity_score\n",
        "          best_word=word\n",
        "    ## FILL CODE\n",
        "            \n",
        "    return best_word"
      ]
    },
    {
      "cell_type": "code",
      "execution_count": 26,
      "metadata": {
        "id": "PmFn4ERTrBCW",
        "colab": {
          "base_uri": "https://localhost:8080/"
        },
        "outputId": "721fbe87-df5c-42b5-a5b5-d14583eb0b83"
      },
      "outputs": [
        {
          "output_type": "stream",
          "name": "stdout",
          "text": [
            "\n",
            "The nearest neighbor of cat is: dog\n"
          ]
        }
      ],
      "source": [
        "print('')\n",
        "print('The nearest neighbor of cat is: ' +\n",
        "      nearest_neighbor(word_vectors['cat'], word_vectors, exclude_words = ['cat', 'cats']))"
      ]
    },
    {
      "cell_type": "markdown",
      "metadata": {
        "id": "dzXzTqHmrBCW"
      },
      "source": [
        "#### Hint (using python priorty queues with the heapq datastructure): \n",
        "if you don't want to store all the words and scores you can use the priortiy queue and only store the best K element so far. "
      ]
    },
    {
      "cell_type": "code",
      "execution_count": 161,
      "metadata": {
        "id": "IzkZt5ZCrBCW"
      },
      "outputs": [],
      "source": [
        "\n",
        "## This function return the words corresponding to the\n",
        "## K nearest neighbors of vector x.\n",
        "## You can use the functions heappush and heappop.\n",
        "import heapq\n",
        "def knn(x, vectors, k,exclude_words=[]):\n",
        "    '''\n",
        "    Parameters:\n",
        "    x (string): word to find its nearest neighbour \n",
        "    word_vectors (Python dict): {word (string): np-array of word vector}\n",
        "    k (int): number of nearest neighbours to be found\n",
        "    \n",
        "    Returns: \n",
        "    k_nearest_neighbors (list of tuples): [(score, word), (score, word), ....]\n",
        "    '''\n",
        "    queue=[]\n",
        "    k_nearest_neighbors = 0\n",
        "    for word in vectors:\n",
        "      if word not in exclude_words:\n",
        "        similarity_score=cosine(x,vectors[word])\n",
        "        k_nearest_neighbors+=1\n",
        "        heapq.heappush(queue,(similarity_score,word))\n",
        "        # print(queue)\n",
        "        if len(queue)>k:\n",
        "          heapq.heappop(queue)\n",
        "      ## FILL CODE\n",
        "        \n",
        "    return queue"
      ]
    },
    {
      "cell_type": "code",
      "execution_count": 61,
      "metadata": {
        "id": "thunQTU8rBCW",
        "colab": {
          "base_uri": "https://localhost:8080/"
        },
        "outputId": "dca37c9a-49e7-4961-d5fa-314a74946c7b"
      },
      "outputs": [
        {
          "output_type": "stream",
          "name": "stdout",
          "text": [
            "\n",
            "cat\n",
            "--------------\n",
            "pig\t0.458\n",
            "dogs\t0.538\n",
            "rabbit\t0.549\n",
            "dog\t0.638\n",
            "pet\t0.573\n"
          ]
        }
      ],
      "source": [
        "knn_cat = knn(word_vectors['cat'], word_vectors, 3,exclude_words = ['cat', 'cats'])\n",
        "print('')\n",
        "print('cat')\n",
        "print('--------------')\n",
        "for score, word in knn(word_vectors['cat'], word_vectors, 5,exclude_words = ['cat', 'cats']):\n",
        "    print (word + '\\t%.3f' % score)\n"
      ]
    },
    {
      "cell_type": "markdown",
      "metadata": {
        "id": "OrFqomSZrBCX"
      },
      "source": [
        "#### Hint: \n",
        "To find the analogies, we find the nearest neighbour associated with the wordvector d\n",
        "$$ d = \\frac{c}{\\Vert {c} \\Vert} + \\frac{b}{\\Vert {b} \\Vert} - \\frac{a}{\\Vert {a} \\Vert}$$\n"
      ]
    },
    {
      "cell_type": "code",
      "execution_count": 65,
      "metadata": {
        "id": "UmGdKY0OrBCX"
      },
      "outputs": [],
      "source": [
        "## This function return the words d, such that a:b and c:d\n",
        "## verifies the same relation\n",
        "def unit_vectors(a):\n",
        "  return a/np.linalg.norm(a)\n",
        "def analogy(a, b, c, word_vectors):\n",
        "    '''\n",
        "    Parameters:\n",
        "    a (string): word a\n",
        "    b (string): word b\n",
        "    c (string): word c\n",
        "    word_vectors (Python dict): {word (string): np-array of word vector}\n",
        "    \n",
        "    Returnrs: \n",
        "    the word d (string) associated with c such that c:d is similar to a:b \n",
        "    \n",
        "    '''\n",
        "    # d = unit_vectors(c)+unit_vectors(b)-unit_vectors(a)\n",
        "\n",
        "    d = unit_vectors(word_vectors[c])+unit_vectors(word_vectors[b])-unit_vectors(word_vectors[a])\n",
        "    x=knn(d, word_vectors, 1)\n",
        "    ## FILL CODE\n",
        "\n",
        "    return x[0][1]"
      ]
    },
    {
      "cell_type": "code",
      "execution_count": 67,
      "metadata": {
        "id": "3gQAjBoDrBCX",
        "colab": {
          "base_uri": "https://localhost:8080/"
        },
        "outputId": "830496be-a6bf-4e32-d549-2b7f9e4ceb63"
      },
      "outputs": [
        {
          "output_type": "stream",
          "name": "stdout",
          "text": [
            "\n",
            "france - paris + rome = italy\n"
          ]
        }
      ],
      "source": [
        "# Word analogies\n",
        "\n",
        "print('')\n",
        "print('france - paris + rome = ' + analogy('paris', 'france', 'rome', word_vectors))"
      ]
    },
    {
      "cell_type": "markdown",
      "metadata": {
        "id": "XcOTJAwSrBCX"
      },
      "source": [
        "## A word about biases in word vectors"
      ]
    },
    {
      "cell_type": "code",
      "execution_count": 68,
      "metadata": {
        "id": "RaQmpNFwrBCX",
        "colab": {
          "base_uri": "https://localhost:8080/"
        },
        "outputId": "f43f6a81-f2cb-4b76-ee27-cc80e4e61681"
      },
      "outputs": [
        {
          "output_type": "stream",
          "name": "stdout",
          "text": [
            "\n",
            "similarity(genius, man) = 0.445\n",
            "similarity(genius, woman) = 0.325\n"
          ]
        }
      ],
      "source": [
        "## A word about biases in word vectors:\n",
        "\n",
        "print('')\n",
        "print('similarity(genius, man) = %.3f' %\n",
        "      cosine(word_vectors['man'], word_vectors['genius']))\n",
        "print('similarity(genius, woman) = %.3f' %\n",
        "      cosine(word_vectors['woman'], word_vectors['genius']))"
      ]
    },
    {
      "cell_type": "code",
      "execution_count": 107,
      "metadata": {
        "id": "o_MYfiKKrBCX"
      },
      "outputs": [],
      "source": [
        "## Compute the association strength between:\n",
        "##   - a word w\n",
        "##   - two sets of attributes A and B\n",
        "\n",
        "def association_strength(w, A, B, vectors):\n",
        "    '''\n",
        "    Parameters:\n",
        "    w (string): word w\n",
        "    A (list of strings): The words belonging to set A\n",
        "    B (list of strings): The words belonging to set B\n",
        "    vectors (Python dict): {word (string): np-array of word vector}\n",
        "    \n",
        "    Returns: \n",
        "    strength (float): the value of the association strength \n",
        "    '''\n",
        "    \n",
        "    strength = 0.0\n",
        "    part_a = 0.0\n",
        "    part_b = 0.0 \n",
        "    \n",
        "    ## FILL CODE\n",
        "    for words_a,words_b in zip(A,B):\n",
        "      part_a+=cosine(vectors[w],vectors[words_a])\n",
        "      part_b+=cosine(vectors[w],vectors[words_b])\n",
        "    strength=(part_a/len(A))-(part_b/len(B))\n",
        "\n",
        "    return strength"
      ]
    },
    {
      "cell_type": "code",
      "execution_count": 111,
      "metadata": {
        "id": "fmhdEgLDrBCY"
      },
      "outputs": [],
      "source": [
        "## Perform the word embedding association test between:\n",
        "##   - two sets of words X and Y\n",
        "##   - two sets of attributes A and B\n",
        "\n",
        "def weat(X, Y, A, B, vectors):\n",
        "    '''\n",
        "    Parameters:\n",
        "    X (list of strings): The words belonging to set X\n",
        "    Y (list of strings): The words belonging to set Y\n",
        "    A (list of strings): The words belonging to set A\n",
        "    B (list of strings): The words belonging to set B\n",
        "    vectors (Python dict): {word (string): np-array of word vector}\n",
        "    \n",
        "    Returns: \n",
        "    score (float): the value of the group association strength  \n",
        "    '''\n",
        "    \n",
        "    score = 0.0\n",
        "    ## FILL CODE\n",
        "    for words_X,words_Y in zip(X,Y):\n",
        "      sum_X=association_strength(words_X,A,B,vectors)\n",
        "      sum_Y=association_strength(words_Y,A,B,vectors)\n",
        "      score+=sum_X-sum_Y\n",
        "\n",
        "\n",
        "    return score"
      ]
    },
    {
      "cell_type": "code",
      "execution_count": 112,
      "metadata": {
        "id": "4cG8xjRdrBCY",
        "colab": {
          "base_uri": "https://localhost:8080/"
        },
        "outputId": "c9890928-bc2e-408c-8152-8f855da2176b"
      },
      "outputs": [
        {
          "output_type": "stream",
          "name": "stdout",
          "text": [
            "\n",
            "Word embedding association test: 0.847\n"
          ]
        }
      ],
      "source": [
        "## Replicate one of the experiments from:\n",
        "##\n",
        "## Semantics derived automatically from language corpora contain human-like biases\n",
        "## Caliskan, Bryson, Narayanan (2017)\n",
        "\n",
        "career = ['executive', 'management', 'professional', 'corporation', \n",
        "          'salary', 'office', 'business', 'career']\n",
        "family = ['home', 'parents', 'children', 'family',\n",
        "          'cousins', 'marriage', 'wedding', 'relatives']\n",
        "male = ['john', 'paul', 'mike', 'kevin', 'steve', 'greg', 'jeff', 'bill']\n",
        "female = ['amy', 'joan', 'lisa', 'sarah', 'diana', 'kate', 'ann', 'donna']\n",
        "\n",
        "print('')\n",
        "print('Word embedding association test: %.3f' %\n",
        "      weat(career, family, male, female, word_vectors))"
      ]
    },
    {
      "cell_type": "markdown",
      "metadata": {
        "id": "6AvKz8R1rBCY"
      },
      "source": [
        "## Word translation using word vectors\n",
        "\n",
        "In the following, we will use word vectors in English and French to translate words from English to French. The idea is to learn a linear function that maps English word vectors to their correponding French word vectors. To learn this linear mapping, we will use a small bilingual lexicon, that contains pairs of words in English and French that are translations of each other.\n",
        "\n",
        "The following function will load the small English-French bilingual lexicon:"
      ]
    },
    {
      "cell_type": "code",
      "execution_count": 113,
      "metadata": {
        "id": "wiL9ynyjrBCY"
      },
      "outputs": [],
      "source": [
        "def load_lexicon(filename):\n",
        "    '''\n",
        "    Parameters:\n",
        "    filename(string): the path of the lexicon\n",
        "    \n",
        "    Returns:\n",
        "    data(list of pairs of string): the bilingual lexicon\n",
        "    '''\n",
        "    fin = io.open(filename, 'r', encoding='utf-8', newline='\\n')\n",
        "    data = []\n",
        "    for line in fin:\n",
        "        a, b = line.rstrip().split(' ')\n",
        "        data.append((a, b))\n",
        "    return data"
      ]
    },
    {
      "cell_type": "code",
      "execution_count": 114,
      "metadata": {
        "id": "4-wFbb-UrBCY",
        "colab": {
          "base_uri": "https://localhost:8080/"
        },
        "outputId": "6046f970-bf53-4dbd-87f1-b6828c5f0dcb"
      },
      "outputs": [
        {
          "output_type": "stream",
          "name": "stdout",
          "text": [
            "[('the', 'le'), ('the', 'les'), ('the', 'la'), ('and', 'et'), ('was', 'fut')]\n"
          ]
        }
      ],
      "source": [
        "word_vectors_en = load_vectors('/content/drive/MyDrive/AMMI SLIDES/NLP_Week_1_Labs_2022/session2/session2/wiki.en.vec')\n",
        "word_vectors_fr = load_vectors('/content/drive/MyDrive/AMMI SLIDES/NLP_Week_1_Labs_2022/session2/session2/wiki.fr.vec')\n",
        "lexicon = load_lexicon(\"/content/drive/MyDrive/AMMI SLIDES/NLP_Week_1_Labs_2022/session2/session2/lexicon-en-fr.txt\")\n",
        "print(lexicon[:5])"
      ]
    },
    {
      "cell_type": "code",
      "execution_count": 115,
      "metadata": {
        "id": "QgbFrfwNrBCY"
      },
      "outputs": [],
      "source": [
        "# We split the lexicon into a train and validation set\n",
        "train = lexicon[:5000]\n",
        "valid = lexicon[5000:5100]"
      ]
    },
    {
      "cell_type": "markdown",
      "metadata": {
        "id": "vyXyvHyZrBCY"
      },
      "source": [
        "The following function will learn the mapping from English to French. The idea is to build two matrices $X_{\\text{en}}$ and $X_{\\text{fr}}$, and to find a mapping $M$ that minimizes $||X_{\\text{en}} W - X_{\\text{fr}} ||_2$. In numpy, this mapping can be obtained by using the `numpy.linalg.lstsq` function."
      ]
    },
    {
      "cell_type": "code",
      "source": [
        "import warnings\n",
        "warnings.filterwarnings('ignore')"
      ],
      "metadata": {
        "id": "i-pUX-z5OaER"
      },
      "execution_count": 125,
      "outputs": []
    },
    {
      "cell_type": "code",
      "execution_count": 155,
      "metadata": {
        "id": "KUaS2NQ6rBCY"
      },
      "outputs": [],
      "source": [
        "def align(word_vectors_en, word_vectors_fr, lexicon):\n",
        "    '''\n",
        "    Parameters:\n",
        "    word_vectors_en(dict: string -> np.array): English word vectors\n",
        "    word_vectors_en(dict: string -> np.array): French word vectors\n",
        "    lexicon(list of pairs of string): bilingual training lexicon\n",
        "    \n",
        "    Returns\n",
        "    mapping(np.array): th\n",
        "    e mapping from English to French vectors\n",
        "    '''\n",
        "    x_en, x_fr = [], []\n",
        "    for word_en,word_fr in lexicon:\n",
        "      x_en.append(word_vectors_en[word_en])\n",
        "      x_fr.append(word_vectors_fr[word_fr])\n",
        "    w=np.linalg.lstsq(x_en,x_fr)\n",
        "    # print(w)\n",
        "    ## FILL CODE\n",
        "    \n",
        "    return w"
      ]
    },
    {
      "cell_type": "code",
      "execution_count": 156,
      "metadata": {
        "id": "22ItGtG6rBCY"
      },
      "outputs": [],
      "source": [
        "mapping = align(word_vectors_en, word_vectors_fr, lexicon)"
      ]
    },
    {
      "cell_type": "markdown",
      "metadata": {
        "id": "F4jpEVM6rBCY"
      },
      "source": [
        "Given a mapping, a set of English word vector and French word vectors, the next function will translate the English word to French. To do so, we apply the mapping on the English word, and retrieve the nearest neighbor of the obtained vector in the set of French word vectors. The translation is then the corresponding French word."
      ]
    },
    {
      "cell_type": "code",
      "execution_count": 164,
      "metadata": {
        "id": "WNAW21TdrBCY"
      },
      "outputs": [],
      "source": [
        "def translate(word, word_vectors_en, word_vectors_fr, mapping):\n",
        "    '''\n",
        "    Parameters:\n",
        "    word(string): an English word\n",
        "    word_vectors_en(dict: string -> np.array): English word vectors\n",
        "    word_vectors_en(dict: string -> np.array): French word vectors\n",
        "    mapping(np.array): the mapping from English to French vectors\n",
        "    \n",
        "    Returns\n",
        "    A string containing the translation of the English word\n",
        "    '''\n",
        "    en_embedding=word_vectors_en[word]\n",
        "    french_translation=en_embedding@mapping[0]#np.dot()\n",
        "    nearest_word=knn(french_translation,word_vectors_fr,1)\n",
        "    ## FILL CODE\n",
        "\n",
        "\n",
        "    return nearest_word[0][1]"
      ]
    },
    {
      "cell_type": "code",
      "execution_count": 165,
      "metadata": {
        "id": "Mguss7k9rBCY",
        "colab": {
          "base_uri": "https://localhost:8080/"
        },
        "outputId": "bd64b5ee-0703-4f77-9058-067cd0edcb81"
      },
      "outputs": [
        {
          "output_type": "stream",
          "name": "stdout",
          "text": [
            "monde\n",
            "machine\n",
            "apprentissage\n"
          ]
        }
      ],
      "source": [
        "print(translate(\"world\", word_vectors_en, word_vectors_fr, mapping))\n",
        "print(translate(\"machine\", word_vectors_en, word_vectors_fr, mapping))\n",
        "print(translate(\"learning\", word_vectors_en, word_vectors_fr, mapping))"
      ]
    },
    {
      "cell_type": "markdown",
      "metadata": {
        "id": "2BJ5ZpYcrBCZ"
      },
      "source": [
        "Finally, let's implement a function to evaluate this method on the validation lexicon:"
      ]
    },
    {
      "cell_type": "code",
      "execution_count": 166,
      "metadata": {
        "id": "bhDV5RsurBCZ"
      },
      "outputs": [],
      "source": [
        "def evaluate(valid, word_vectors_en, word_vectors_fr, mapping):\n",
        "    '''\n",
        "    Parameters:\n",
        "    valid(a list of pairs of string): the validation lexicon\n",
        "    word_vectors_en(dict: string -> np.array): English word vectors\n",
        "    word_vectors_en(dict: string -> np.array): French word vectors\n",
        "    mapping(np.array): the mapping from English to French vectors\n",
        "    \n",
        "    Returns\n",
        "    Accuracy(float): the accuracy on the validation lexicon\n",
        "    '''\n",
        "    acc, n = 0.0, 0\n",
        "    n=len(valid)\n",
        "    for en,fr in valid:\n",
        "      translation=translate(en, word_vectors_en, word_vectors_fr, mapping)\n",
        "      if translation==fr:\n",
        "        acc+=1\n",
        "    \n",
        "    ## FILL CODE\n",
        "\n",
        "    return (acc/n)*100"
      ]
    },
    {
      "cell_type": "code",
      "execution_count": 167,
      "metadata": {
        "id": "mLdryYRcrBCZ",
        "colab": {
          "base_uri": "https://localhost:8080/"
        },
        "outputId": "5fbb9eb0-6149-4227-c5c1-5a0a2a3432f6"
      },
      "outputs": [
        {
          "output_type": "execute_result",
          "data": {
            "text/plain": [
              "64.0"
            ]
          },
          "metadata": {},
          "execution_count": 167
        }
      ],
      "source": [
        "evaluate(valid, word_vectors_en, word_vectors_fr, mapping)"
      ]
    },
    {
      "cell_type": "code",
      "execution_count": null,
      "metadata": {
        "id": "OlGj4sj_rBCZ"
      },
      "outputs": [],
      "source": [
        ""
      ]
    }
  ],
  "metadata": {
    "kernelspec": {
      "display_name": "Python 3",
      "language": "python",
      "name": "python3"
    },
    "language_info": {
      "codemirror_mode": {
        "name": "ipython",
        "version": 3
      },
      "file_extension": ".py",
      "mimetype": "text/x-python",
      "name": "python",
      "nbconvert_exporter": "python",
      "pygments_lexer": "ipython3",
      "version": "3.6.2+"
    },
    "colab": {
      "name": "Ifeoma_Veronica_Nwabufo_ intro_to_wordvectors.ipynb",
      "provenance": [],
      "collapsed_sections": []
    }
  },
  "nbformat": 4,
  "nbformat_minor": 0
}