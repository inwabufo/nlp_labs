{
  "cells": [
    {
      "cell_type": "markdown",
      "metadata": {
        "id": "d_AWLwRtWHgS"
      },
      "source": [
        "The goal of this lab is to implement a language identifier (LID).\n",
        "\n",
        "Our first model will be based on Naive Bayes."
      ]
    },
    {
      "cell_type": "code",
      "execution_count": 10,
      "metadata": {
        "id": "PyD8EahwWHgV"
      },
      "outputs": [],
      "source": [
        "import io, sys, math, re\n",
        "import numpy as np\n",
        "from collections import defaultdict"
      ]
    },
    {
      "cell_type": "markdown",
      "metadata": {
        "id": "PwLYNTPiWHgV"
      },
      "source": [
        "The next function is used to load the data. Each line of the data consist of a label (corresponding to a language), followed by some text, written in that language. Here is an example of data:\n",
        "\n",
        "```__label__de Zur Namensdeutung gibt es mehrere Varianten.```\n"
      ]
    },
    {
      "cell_type": "code",
      "execution_count": 2,
      "metadata": {
        "id": "kCLdmFCXWHgW"
      },
      "outputs": [],
      "source": [
        "def load_data(filename):\n",
        "    fin = io.open(filename, 'r', encoding='utf-8')\n",
        "    data = []\n",
        "    for line in fin:\n",
        "        tokens = line.split()\n",
        "        data.append((tokens[0], tokens[1:]))\n",
        "    return data"
      ]
    },
    {
      "cell_type": "markdown",
      "metadata": {
        "id": "GKTbsnvfWHgW"
      },
      "source": [
        "You can now try loading the first dataset `train1.txt` and look what examples look like."
      ]
    },
    {
      "cell_type": "code",
      "source": [
        "from google.colab import drive\n",
        "drive.mount('/content/drive')"
      ],
      "metadata": {
        "colab": {
          "base_uri": "https://localhost:8080/"
        },
        "id": "LzQW-hoVWg95",
        "outputId": "5fe7706c-6d64-4401-eedf-fdd10e0a4fee"
      },
      "execution_count": 3,
      "outputs": [
        {
          "output_type": "stream",
          "name": "stdout",
          "text": [
            "Mounted at /content/drive\n"
          ]
        }
      ]
    },
    {
      "cell_type": "code",
      "execution_count": 4,
      "metadata": {
        "id": "cnigDGFAWHgW",
        "colab": {
          "base_uri": "https://localhost:8080/"
        },
        "outputId": "db1c4b37-b39c-4056-a1d3-85cafd3df2c9"
      },
      "outputs": [
        {
          "output_type": "stream",
          "name": "stdout",
          "text": [
            "('__label__de', ['Weil', 'das', 'Wetter', 'schlecht', 'ist,', 'kann', 'man', 'nicht', 'Golf', 'spielen;', 'deswegen', 'ist', 'Mutters', 'Stimmung', 'sehr', 'schlecht.'])\n"
          ]
        }
      ],
      "source": [
        "data = load_data(\"/content/drive/MyDrive/AMMI SLIDES/session1/train1.txt\")\n",
        "print(data[100])"
      ]
    },
    {
      "cell_type": "markdown",
      "metadata": {
        "id": "e-EjW2LSWHgX"
      },
      "source": [
        "Next, we will start implementing the Naive Bayes method. This technique is based on word counts, and we thus need to start by implementing a function to count the words and labels of our training set.\n",
        "\n",
        "`n_examples` is the total number of examples\n",
        "\n",
        "`n_words_per_label` is the total number of words for a given label\n",
        "\n",
        "`label_counts` is the number of times a given label appears in the training data\n",
        "\n",
        "`word_counts` is the number of times a word appears with a given label"
      ]
    },
    {
      "cell_type": "code",
      "execution_count": 5,
      "metadata": {
        "id": "BQyInZ8vWHgX"
      },
      "outputs": [],
      "source": [
        "def count_words(data):\n",
        "    n_examples = 0\n",
        "    n_words_per_label = defaultdict(lambda: 0)\n",
        "    label_counts = defaultdict(lambda: 0)\n",
        "    word_counts = defaultdict(lambda: defaultdict(lambda: 0.0))\n",
        "\n",
        "    for example in data:\n",
        "      label, sentence = example\n",
        "      label_counts[label]+=1\n",
        "      n_words_per_label[label]=len(sentence)\n",
        "      for word in sentence:\n",
        "        word_counts[label][word]+=1\n",
        "      n_examples+=1\n",
        "    return {'label_counts': label_counts, \n",
        "            'word_counts': word_counts, \n",
        "            'n_examples': n_examples, \n",
        "            'n_words_per_label': n_words_per_label}\n",
        "# count_words(data)"
      ]
    },
    {
      "cell_type": "code",
      "source": [
        "train_data = load_data(\"train1.txt\")\n",
        "valid_data = load_data(\"/valid1.txt\")\n",
        "n = count_words(train_data)"
      ],
      "metadata": {
        "id": "DamPnFZjewT6"
      },
      "execution_count": 8,
      "outputs": []
    },
    {
      "cell_type": "code",
      "source": [
        "n['label_counts']"
      ],
      "metadata": {
        "colab": {
          "base_uri": "https://localhost:8080/"
        },
        "id": "eLJrm2oXfAaH",
        "outputId": "1777fab4-6c87-4568-8ba6-79b698dac206"
      },
      "execution_count": 9,
      "outputs": [
        {
          "output_type": "execute_result",
          "data": {
            "text/plain": [
              "defaultdict(<function __main__.count_words.<locals>.<lambda>>,\n",
              "            {'__label__de': 828,\n",
              "             '__label__en': 2137,\n",
              "             '__label__eo': 1020,\n",
              "             '__label__es': 564,\n",
              "             '__label__fr': 650,\n",
              "             '__label__hu': 432,\n",
              "             '__label__it': 1327,\n",
              "             '__label__pt': 578,\n",
              "             '__label__ru': 1271,\n",
              "             '__label__tr': 1193})"
            ]
          },
          "metadata": {},
          "execution_count": 9
        }
      ]
    },
    {
      "cell_type": "markdown",
      "metadata": {
        "id": "GhtnSweqWHgY"
      },
      "source": [
        "Next, using the word and label counts from the previous function, we can implement the prediction function.\n",
        "\n",
        "Here, `mu` is a regularization parameter (Laplace smoothing), and `sentence` is the list of words corresponding to the test example."
      ]
    },
    {
      "cell_type": "code",
      "execution_count": 11,
      "metadata": {
        "id": "mTlcOwNEWHgY"
      },
      "outputs": [],
      "source": [
        "def predict(sentence, mu, label_counts, word_counts, n_examples, n_words_per_label):\n",
        "    best_label = None\n",
        "    best_score = float('-inf')\n",
        "\n",
        "    for label in word_counts.keys():\n",
        "        score = 0.0\n",
        "        ## FILE CODE\n",
        "        for word in sentence:\n",
        "          numerator=mu+ word_counts[label][word] #numerator of the bayesian classifier\n",
        "          denominator=mu*len(word_counts[label]) + n_words_per_label[word] #denominator of bayesian classifier\n",
        "          score+=np.log(numerator/denominator) #to make sure the values are not very small\n",
        "\n",
        "        if score>best_score:\n",
        "          best_score=score\n",
        "          best_label=label\n",
        "\n",
        "    return best_label"
      ]
    },
    {
      "cell_type": "markdown",
      "metadata": {
        "id": "RGvT_1FsWHgZ"
      },
      "source": [
        "The next function will be used to evaluate the Naive Bayes model on a validation set. It computes the accuracy for a particular regularization parameter `mu`."
      ]
    },
    {
      "cell_type": "code",
      "execution_count": 12,
      "metadata": {
        "id": "3Z9T2ZPeWHgZ"
      },
      "outputs": [],
      "source": [
        "def compute_accuracy(valid_data, mu, counts):\n",
        "    accuracy = 0.0\n",
        "    for label, sentence in valid_data:\n",
        "        ## FILL CODE\n",
        "        y_pred=predict(sentence, mu, counts[\"label_counts\"], counts[\"word_counts\"], counts[\"n_examples\"], counts[\"n_words_per_label\"])#calling predict function to predict\n",
        "        if label==y_pred: \n",
        "          accuracy+=1 #increasing the accuracy if label = y_pred\n",
        "     \n",
        "    return (accuracy/len(valid_data))*100 #percentage accuracy"
      ]
    },
    {
      "cell_type": "code",
      "execution_count": 13,
      "metadata": {
        "id": "L3KQZRWhWHgZ",
        "colab": {
          "base_uri": "https://localhost:8080/"
        },
        "outputId": "8d596978-ee91-4000-b62e-ebcc4f06e941"
      },
      "outputs": [
        {
          "output_type": "stream",
          "name": "stdout",
          "text": [
            "\n",
            "** Naive Bayes **\n",
            "\n",
            "Validation accuracy: 93.500\n",
            "\n"
          ]
        }
      ],
      "source": [
        "print(\"\")\n",
        "print(\"** Naive Bayes **\")\n",
        "print(\"\")\n",
        "\n",
        "mu = 1.0\n",
        "train_data = load_data(\"train1.txt\")\n",
        "valid_data = load_data(\"valid1.txt\")\n",
        "counts = count_words(train_data)\n",
        "\n",
        "print(\"Validation accuracy: %.3f\" % compute_accuracy(valid_data, mu, counts))\n",
        "print(\"\")"
      ]
    },
    {
      "cell_type": "code",
      "execution_count": null,
      "metadata": {
        "id": "XmzClUoOWHgZ"
      },
      "outputs": [],
      "source": [
        ""
      ]
    }
  ],
  "metadata": {
    "kernelspec": {
      "display_name": "Python 3",
      "language": "python",
      "name": "python3"
    },
    "language_info": {
      "codemirror_mode": {
        "name": "ipython",
        "version": 3
      },
      "file_extension": ".py",
      "mimetype": "text/x-python",
      "name": "python",
      "nbconvert_exporter": "python",
      "pygments_lexer": "ipython3",
      "version": "3.6.2+"
    },
    "colab": {
      "name": "Ifeoma_veronica_nwabufo_naive_bayes.ipynb",
      "provenance": [],
      "collapsed_sections": []
    }
  },
  "nbformat": 4,
  "nbformat_minor": 0
}
