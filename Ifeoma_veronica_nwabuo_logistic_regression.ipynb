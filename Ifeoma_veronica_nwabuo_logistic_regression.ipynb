{
  "cells": [
    {
      "cell_type": "markdown",
      "metadata": {
        "id": "DWeTT_YIcydi"
      },
      "source": [
        "In this second part of the lab, we will implement a language identifier trained on the same data, but using Logistic Regression instead of Naive Bayes."
      ]
    },
    {
      "cell_type": "code",
      "execution_count": 1,
      "metadata": {
        "id": "3s8wVG47cydl"
      },
      "outputs": [],
      "source": [
        "import io, sys, math\n",
        "import pandas as pd\n",
        "import numpy as np\n",
        "from collections import defaultdict"
      ]
    },
    {
      "cell_type": "markdown",
      "metadata": {
        "id": "8PbzvK9Rcydm"
      },
      "source": [
        "This function is used to build the dictionary, or vocabulary, which is a mapping from strings (or words) to integers (or indices). This will allow to build vector representations of documents. "
      ]
    },
    {
      "cell_type": "code",
      "execution_count": 2,
      "metadata": {
        "id": "IonnNAM0cydn"
      },
      "outputs": [],
      "source": [
        "def build_dict(filename, threshold=1):\n",
        "    fin = io.open(filename, 'r', encoding='utf-8')\n",
        "    word_dict, label_dict = {}, {}\n",
        "    counts = defaultdict(lambda: 0)\n",
        "    for line in fin:\n",
        "        tokens = line.split()\n",
        "        label = tokens[0]\n",
        "\n",
        "        if not label in label_dict:\n",
        "            label_dict[label] = len(label_dict)\n",
        "\n",
        "        for w in tokens[1:]:\n",
        "            counts[w] += 1\n",
        "            \n",
        "    for k, v in counts.items():\n",
        "        if v > threshold:\n",
        "            word_dict[k] = len(word_dict)\n",
        "    return word_dict, label_dict"
      ]
    },
    {
      "cell_type": "markdown",
      "metadata": {
        "id": "h1QCyNTJcydn"
      },
      "source": [
        "This function is used to load the training dataset, and build vector representations of the training examples. In particular, a document or sentence is represented as a bag of words. Each example correspond to a sparse vector ` x` of dimension `V`, where `V` is the size of the vocabulary. The element `j` of the vector `x` is the number of times the word `j` appears in the document."
      ]
    },
    {
      "cell_type": "code",
      "execution_count": 9,
      "metadata": {
        "id": "PGBB6wJ_cydo"
      },
      "outputs": [],
      "source": [
        "def load_data(filename, word_dict, label_dict):\n",
        "    fin = io.open(filename, 'r', encoding='utf-8')\n",
        "    data = []\n",
        "    dim = len(word_dict)\n",
        "    for line in fin:\n",
        "        tokens = line.split()\n",
        "        label = tokens[0]\n",
        "\n",
        "        yi = label_dict[label]\n",
        "        xi = np.zeros(dim)\n",
        "        for word in tokens[1:]:\n",
        "            if word in word_dict:\n",
        "                wid = word_dict[word]\n",
        "                xi[wid] += 1.0\n",
        "        data.append((yi, xi))\n",
        "    # a=pd.DataFrame(data,columns=[\"ab\",\"ac\"])\n",
        "    # y=a[\"ab\"]\n",
        "    # x=a[\"ac\"].apply(pd.Series)\n",
        "    return data"
      ]
    },
    {
      "cell_type": "markdown",
      "metadata": {
        "id": "9uj7UF0Hcydo"
      },
      "source": [
        "First, let's implement the softmax function. Don't forget numerical stability!"
      ]
    },
    {
      "cell_type": "code",
      "execution_count": 11,
      "metadata": {
        "id": "59PzptHFcydp"
      },
      "outputs": [],
      "source": [
        "def softmax(x):\n",
        "  max_x=max(x) #get the max\n",
        "  summ=np.sum(np.exp(x-max_x), axis=0) \n",
        "  softmax=np.exp(x-max_x)/summ#subtract the max from eqch x-term\n",
        "  return softmax\n",
        "    ### FILL CODE"
      ]
    },
    {
      "cell_type": "code",
      "source": [
        ""
      ],
      "metadata": {
        "id": "e7gCuXz0TEjJ"
      },
      "execution_count": 11,
      "outputs": []
    },
    {
      "cell_type": "markdown",
      "metadata": {
        "id": "OTffBFLicydp"
      },
      "source": [
        "Now, let's implement the main training loop, by using stochastic gradient descent. The function will iterate over the examples of the training set. For each example, we will first compute the loss, before computing the gradient and performing the update."
      ]
    },
    {
      "cell_type": "code",
      "execution_count": 12,
      "metadata": {
        "id": "5sNicl_Hcydq"
      },
      "outputs": [],
      "source": [
        "lr=0.01\n",
        "def sgd(w, data, niter):\n",
        "    nlabels, dim = w.shape\n",
        "    loss=0\n",
        "    for iter in range(niter):\n",
        "      train_loss=0\n",
        "      #x=data#.reshape(1,-1)\n",
        "      for label,x in data:\n",
        "        h=np.dot(w,x) #hypothesis\n",
        "        y_pred=softmax(h) #predict using softmax\n",
        "        train_loss+= np.log(y_pred[label]) #we want to keep track of our losses. We may use it to draw a graph of losses later\n",
        "        vector=np.zeros(nlabels)#we create a vector of zeros which would be used to assign labels\n",
        "        vector[label]=1 #assign 1 where the vector is 0\n",
        "        grad=((y_pred-vector).reshape(nlabels,1)*x.reshape((1,dim))) #gradient of the softmax\n",
        "        w=w-lr*grad #updating the weights\n",
        "\n",
        "    return w"
      ]
    },
    {
      "cell_type": "markdown",
      "metadata": {
        "id": "hvdNgumAcydq"
      },
      "source": [
        "The next function will predict the most probable label corresponding to example `x`, given the trained classifier `w`."
      ]
    },
    {
      "cell_type": "code",
      "execution_count": 13,
      "metadata": {
        "id": "7Gi2hvwTcydq"
      },
      "outputs": [],
      "source": [
        "def predict(w, x):\n",
        "  h=np.dot(w,x)\n",
        "  y_pred=softmax(h)\n",
        "    ## FILL CODE\n",
        "  return np.argmax(y_pred) #we take the argmax of the prediction"
      ]
    },
    {
      "cell_type": "markdown",
      "metadata": {
        "id": "3dxLLZdYcydr"
      },
      "source": [
        "Finally, this function will compute the accuracy of a trained classifier `w` on a validation set."
      ]
    },
    {
      "cell_type": "code",
      "execution_count": 14,
      "metadata": {
        "id": "_km9Cr-Wcydr"
      },
      "outputs": [],
      "source": [
        "def compute_accuracy(w, valid_data):\n",
        "    ## FILL CODE\n",
        "    accuracy=0\n",
        "    for label, x in valid_data:\n",
        "      y_pred=predict(w,x) #predict\n",
        "      if y_pred==label: #update accuracy\n",
        "        accuracy+=1\n",
        "    return (accuracy/len(valid_data))*100"
      ]
    },
    {
      "cell_type": "code",
      "execution_count": 15,
      "metadata": {
        "id": "xaxlmMPzcydr",
        "colab": {
          "base_uri": "https://localhost:8080/"
        },
        "outputId": "ec287767-03e9-4c82-f793-6df383178e3f"
      },
      "outputs": [
        {
          "output_type": "stream",
          "name": "stdout",
          "text": [
            "\n",
            "** Logistic Regression **\n",
            "\n",
            "\n",
            "Validation accuracy: 87.800\n",
            "\n"
          ]
        }
      ],
      "source": [
        "print(\"\")\n",
        "print(\"** Logistic Regression **\")\n",
        "print(\"\")\n",
        "\n",
        "word_dict, label_dict = build_dict(\"train1.txt\")\n",
        "train_data= load_data(\"train1.txt\", word_dict, label_dict)\n",
        "valid_data = load_data(\"valid1.txt\", word_dict, label_dict)\n",
        "\n",
        "nlabels = len(label_dict)\n",
        "dim = len(word_dict)\n",
        "w = np.zeros([nlabels, dim])\n",
        "w = sgd(w, train_data,2)\n",
        "print(\"\")\n",
        "print(\"Validation accuracy: %.3f\" % compute_accuracy(w, valid_data))\n",
        "print(\"\")"
      ]
    }
  ],
  "metadata": {
    "kernelspec": {
      "display_name": "Python 3",
      "language": "python",
      "name": "python3"
    },
    "language_info": {
      "codemirror_mode": {
        "name": "ipython",
        "version": 3
      },
      "file_extension": ".py",
      "mimetype": "text/x-python",
      "name": "python",
      "nbconvert_exporter": "python",
      "pygments_lexer": "ipython3",
      "version": "3.6.2+"
    },
    "colab": {
      "name": "Ifeoma_veronica_nwabuo_logistic_regression.ipynb",
      "provenance": [],
      "collapsed_sections": []
    }
  },
  "nbformat": 4,
  "nbformat_minor": 0
}
